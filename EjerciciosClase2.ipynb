{
 "cells": [
  {
   "cell_type": "code",
   "execution_count": null,
   "id": "7084a25d-d6fb-4c66-a325-4cc1b25c4ba3",
   "metadata": {},
   "outputs": [],
   "source": [
    "# VECTORES (Listas)"
   ]
  },
  {
   "cell_type": "code",
   "execution_count": 9,
   "id": "762209a7-3309-496d-acc9-328959d5761e",
   "metadata": {},
   "outputs": [
    {
     "name": "stdout",
     "output_type": "stream",
     "text": [
      "Mis materias cursadas de RT:  Principios de Sociologia\n",
      "Mis materias cursadas de RT:  Administracion de empresas\n",
      "Mis materias cursadas de RT:  Derecho I\n",
      "Mis materias cursadas de RT:  Administracion de personal I\n",
      "Mis materias cursadas de RT:  Estadistica aplicada I\n",
      "Mis materias cursadas de RT:  Estadistica aplicada II\n",
      "Mis materias cursadas de RT:  Computacion y Sistemas de informacion\n",
      "Mis materias cursadas de RT:  Ingles I\n",
      "Mis materias cursadas de RT:  Ingles II\n"
     ]
    }
   ],
   "source": [
    "#a.\n",
    "materias_cursadas = [\"Principios de Sociologia\", \"Administracion de empresas\", \"Derecho I\", \"Administracion de personal I\", \"Estadistica aplicada I\", \"Estadistica aplicada II\", \"Computacion y Sistemas de informacion\", \"Ingles I\", \"Ingles II\"]\n",
    "\n",
    "for materias in materias_cursadas:\n",
    "    print(\"Mis materias cursadas de RT: \", materias)\n"
   ]
  },
  {
   "cell_type": "code",
   "execution_count": null,
   "id": "c353c6d6-358d-484e-b9b3-cb817fb2ea5c",
   "metadata": {},
   "outputs": [],
   "source": [
    "#1 suma"
   ]
  },
  {
   "cell_type": "code",
   "execution_count": 39,
   "id": "27a6a137-b054-4bf3-89b7-2d68e39ee28c",
   "metadata": {},
   "outputs": [
    {
     "name": "stdout",
     "output_type": "stream",
     "text": [
      "El total es 119\n"
     ]
    }
   ],
   "source": [
    "numeros = [13, 19, 33, 54]\n",
    "print (\"El total es\", sum(numeros))"
   ]
  },
  {
   "cell_type": "code",
   "execution_count": null,
   "id": "f67dce72-22b7-4b8c-81af-1a7262ad1685",
   "metadata": {},
   "outputs": [],
   "source": [
    "#2 valor maximo"
   ]
  },
  {
   "cell_type": "code",
   "execution_count": 41,
   "id": "fd5c9d32-f061-4ad4-8883-8837fcf5c3f3",
   "metadata": {},
   "outputs": [
    {
     "name": "stdout",
     "output_type": "stream",
     "text": [
      "El valor maximo es 54\n"
     ]
    }
   ],
   "source": [
    "print(\"El valor maximo es\", max(numeros))"
   ]
  },
  {
   "cell_type": "code",
   "execution_count": null,
   "id": "575fe9b9-5eaf-41c8-88a8-077058f07703",
   "metadata": {},
   "outputs": [],
   "source": [
    "#3 promedio"
   ]
  },
  {
   "cell_type": "code",
   "execution_count": 43,
   "id": "39b2f082-5c19-4c32-87ea-ac4db501e797",
   "metadata": {},
   "outputs": [
    {
     "name": "stdout",
     "output_type": "stream",
     "text": [
      "El promedio es 29.75\n"
     ]
    }
   ],
   "source": [
    "print(\"El promedio es\",sum(numeros)/len(numeros))"
   ]
  },
  {
   "cell_type": "code",
   "execution_count": null,
   "id": "4c896c65-0f86-4a5e-bebb-dfac44c2583d",
   "metadata": {},
   "outputs": [],
   "source": [
    "# DICCIONARIOS"
   ]
  },
  {
   "cell_type": "code",
   "execution_count": null,
   "id": "e36aa1d6-302e-4d25-b3a4-ef2ea0d89f54",
   "metadata": {},
   "outputs": [],
   "source": [
    "#1. Registro de Estudiantes"
   ]
  },
  {
   "cell_type": "code",
   "execution_count": 139,
   "id": "be76d6b5-2227-43d0-ad22-fa73efadd576",
   "metadata": {},
   "outputs": [
    {
     "data": {
      "text/plain": [
       "4"
      ]
     },
     "execution_count": 139,
     "metadata": {},
     "output_type": "execute_result"
    }
   ],
   "source": [
    "Calificaciones = {\n",
    "    \"Nico\": 6,\n",
    "    \"Indiana\": 7.5,\n",
    "    \"Mauro\": 4,\n",
    "    \"Yanina\": 9,\n",
    "   }\n",
    "\n",
    "Calificaciones [\"Mauro\"]"
   ]
  },
  {
   "cell_type": "code",
   "execution_count": null,
   "id": "1638cd0a-56f8-4d12-b098-32730cdb8d2a",
   "metadata": {},
   "outputs": [],
   "source": [
    "#2. Caracteristicas mias"
   ]
  },
  {
   "cell_type": "code",
   "execution_count": 149,
   "id": "026acb24-2e60-4e74-8010-532b171ee8b9",
   "metadata": {},
   "outputs": [],
   "source": [
    "Cinthia = {\n",
    "    \"Nombre\": \"Cinthia Eliana Baglioni\",\n",
    "    \"Apodo\": \"Cina\",\n",
    "    \"Edad\": 35,\n",
    "    \"Hobbies\": [\"Yoga\", \"Correr\", \"hacer pizzas\", \"Pintar\", \"Bailar rock\", \"Pasear\"],\n",
    "    \"Mascotas\": [\"mi perro boxer Duke\"],  \n",
    "}"
   ]
  },
  {
   "cell_type": "code",
   "execution_count": 150,
   "id": "84c34dc9-6c5c-40d0-89fe-8b500b447ef9",
   "metadata": {},
   "outputs": [
    {
     "data": {
      "text/plain": [
       "{'Nombre': 'Cinthia Eliana Baglioni',\n",
       " 'Apodo': 'Cina',\n",
       " 'Edad': 35,\n",
       " 'Hobbies': ['Yoga',\n",
       "  'Correr',\n",
       "  'hacer pizzas',\n",
       "  'Pintar',\n",
       "  'Bailar rock',\n",
       "  'Pasear'],\n",
       " 'Mascotas': ['mi perro boxer Duke']}"
      ]
     },
     "execution_count": 150,
     "metadata": {},
     "output_type": "execute_result"
    }
   ],
   "source": [
    "Cinthia"
   ]
  },
  {
   "cell_type": "code",
   "execution_count": null,
   "id": "4d6a84a8-c59a-4b04-b9c0-8ff0189b49db",
   "metadata": {},
   "outputs": [],
   "source": [
    "#3. Contar elementos"
   ]
  },
  {
   "cell_type": "code",
   "execution_count": 173,
   "id": "ff6ff254-608d-4738-9938-4a10599d9acc",
   "metadata": {},
   "outputs": [],
   "source": [
    "Frutas = {\n",
    "    \"Banana\": 8,\n",
    "\"Manzana\": 15,\n",
    "   \"Melon\": 2,\n",
    "    \"Durazno\": 4,\n",
    "}"
   ]
  },
  {
   "cell_type": "code",
   "execution_count": 174,
   "id": "87f36c4c-df77-4183-973c-ba22f33b3f9a",
   "metadata": {},
   "outputs": [],
   "source": [
    "CantidadTotal = sum(Frutas.values())"
   ]
  },
  {
   "cell_type": "code",
   "execution_count": 175,
   "id": "282f5879-d2fc-4f5d-9f14-edf71a6112a3",
   "metadata": {},
   "outputs": [
    {
     "data": {
      "text/plain": [
       "29"
      ]
     },
     "execution_count": 175,
     "metadata": {},
     "output_type": "execute_result"
    }
   ],
   "source": [
    "CantidadTotal"
   ]
  },
  {
   "cell_type": "code",
   "execution_count": 176,
   "id": "599d9d44-44c2-42f9-81c0-ef6546a2a6f7",
   "metadata": {},
   "outputs": [
    {
     "name": "stdout",
     "output_type": "stream",
     "text": [
      "Tengo 29 frutas en mi bolsa\n"
     ]
    }
   ],
   "source": [
    "print (\"Tengo\", CantidadTotal, \"frutas en mi bolsa\")"
   ]
  },
  {
   "cell_type": "code",
   "execution_count": 172,
   "id": "82a0ff5c-e833-49de-a082-27342ea0890e",
   "metadata": {},
   "outputs": [
    {
     "name": "stdout",
     "output_type": "stream",
     "text": [
      "Compre:  Banana\n",
      "Compre:  Manzana\n",
      "Compre:  Melon\n",
      "Compre:  Durazno\n"
     ]
    }
   ],
   "source": [
    "# prueba for\n",
    "for x in Frutas:\n",
    "    print (\"Compre: \", x)"
   ]
  }
 ],
 "metadata": {
  "kernelspec": {
   "display_name": "Python 3 (ipykernel)",
   "language": "python",
   "name": "python3"
  },
  "language_info": {
   "codemirror_mode": {
    "name": "ipython",
    "version": 3
   },
   "file_extension": ".py",
   "mimetype": "text/x-python",
   "name": "python",
   "nbconvert_exporter": "python",
   "pygments_lexer": "ipython3",
   "version": "3.11.5"
  }
 },
 "nbformat": 4,
 "nbformat_minor": 5
}
