{
 "cells": [
  {
   "cell_type": "code",
   "execution_count": 1,
   "id": "f2d080c9-b990-416e-ad35-e44bf5f9e1ff",
   "metadata": {},
   "outputs": [],
   "source": [
    "# ejer 1"
   ]
  },
  {
   "cell_type": "code",
   "execution_count": 12,
   "id": "d7e075a4-7b43-4add-aeaf-cf6ba795df3e",
   "metadata": {},
   "outputs": [
    {
     "name": "stdin",
     "output_type": "stream",
     "text": [
      "Por favor ingrese su nombre... Cinthia\n",
      "A continuacion, ingrese su edad... 35\n"
     ]
    },
    {
     "name": "stdout",
     "output_type": "stream",
     "text": [
      "Hola Cinthia Tienes 35 años.\n"
     ]
    }
   ],
   "source": [
    "nombre = str(input(\"Por favor ingrese su nombre...\"))\n",
    "edad = int(input(\"A continuacion, ingrese su edad...\"))\n",
    "\n",
    "print(\"Hola\",nombre,\"Tienes\",edad, \"años.\")"
   ]
  },
  {
   "cell_type": "code",
   "execution_count": null,
   "id": "e75d7126-9f9d-4a36-a7fe-d38ae6b434ec",
   "metadata": {},
   "outputs": [],
   "source": [
    "# ejer 2"
   ]
  },
  {
   "cell_type": "code",
   "execution_count": 68,
   "id": "1af89771-4010-4f90-9024-5d6d3bfd6313",
   "metadata": {},
   "outputs": [
    {
     "name": "stdin",
     "output_type": "stream",
     "text": [
      "Ingrese un numero... -5\n"
     ]
    },
    {
     "name": "stdout",
     "output_type": "stream",
     "text": [
      "-5 es negativo\n"
     ]
    }
   ],
   "source": [
    "numero = int(input(\"Ingrese un numero...\"))\n",
    "\n",
    "if numero > 0:\n",
    "    print(numero,\"es positivo\")\n",
    "elif numero < 0:\n",
    "    print(numero,\"es negativo\")\n"
   ]
  },
  {
   "cell_type": "code",
   "execution_count": null,
   "id": "89bc0e9c-7f16-4627-bf39-e71ee60bcd79",
   "metadata": {},
   "outputs": [],
   "source": [
    "# ejer 3"
   ]
  },
  {
   "cell_type": "code",
   "execution_count": 66,
   "id": "66c3f076-ebf3-44b0-87fe-6df4fed7c743",
   "metadata": {},
   "outputs": [
    {
     "name": "stdin",
     "output_type": "stream",
     "text": [
      "Ingrese un numero... 75\n",
      "Ingrese otro numero... 88\n"
     ]
    },
    {
     "name": "stdout",
     "output_type": "stream",
     "text": [
      "88 es mayor a... 75\n"
     ]
    }
   ],
   "source": [
    "numa = int(input(\"Ingrese un numero...\"))\n",
    "numb = int(input(\"Ingrese otro numero...\"))\n",
    "\n",
    "if numa > numb:\n",
    "    print(numa,\"es mayor a...\",numb)\n",
    "else:\n",
    "    if numb > numa:\n",
    "        print(numb,\"es mayor a...\",numa)\n",
    "    "
   ]
  },
  {
   "cell_type": "code",
   "execution_count": null,
   "id": "47e7b741-0621-4db4-9269-173e699247a4",
   "metadata": {},
   "outputs": [],
   "source": [
    "# ejer 4"
   ]
  },
  {
   "cell_type": "code",
   "execution_count": 64,
   "id": "e22f678b-3178-4b75-92f4-a50ecf6e37e3",
   "metadata": {},
   "outputs": [
    {
     "name": "stdin",
     "output_type": "stream",
     "text": [
      "Por favor, ingrese aqui su calificacion... 95.9\n"
     ]
    },
    {
     "name": "stdout",
     "output_type": "stream",
     "text": [
      "Calificación: A\n"
     ]
    }
   ],
   "source": [
    "nota = float(input(\"Por favor, ingrese aqui su calificacion...\"))\n",
    "\n",
    "if nota >= 90 and nota <= 100:\n",
    "    print(\"Calificación: A\")\n",
    "elif nota >= 80 and nota < 90:\n",
    "    print(\"Calificación: B\")\n",
    "elif nota >= 70 and nota < 80:\n",
    "    print(\"Calificación: C\")\n",
    "elif nota >= 60 and nota < 70:\n",
    "    print(\"Calificación: D\")\n",
    "else:\n",
    "    print(\"Calificación: F (Reprobado)\")"
   ]
  },
  {
   "cell_type": "code",
   "execution_count": null,
   "id": "62dac10d-4917-4fea-af32-ed73de4281f1",
   "metadata": {},
   "outputs": [],
   "source": [
    "# ejer 5"
   ]
  },
  {
   "cell_type": "code",
   "execution_count": null,
   "id": "f1be0b6e-9fb5-4c41-812c-d8dbf0189dc3",
   "metadata": {},
   "outputs": [],
   "source": [
    "¿Qué es un array en informática? \n",
    "Un array es un tipo de dato estructurado que sirve para guardar informacion de manera mas organizada mas que con simples variables.\n",
    "\n",
    "¿Qué es un ciclo iterativo?\n",
    "Un ciclo iterativo es la repeticion de operaciones hasta que se cumple la condicion."
   ]
  },
  {
   "cell_type": "code",
   "execution_count": null,
   "id": "b34bb7cd-1297-4b2a-bb46-0d4e109e54b1",
   "metadata": {},
   "outputs": [],
   "source": []
  }
 ],
 "metadata": {
  "kernelspec": {
   "display_name": "Python 3 (ipykernel)",
   "language": "python",
   "name": "python3"
  },
  "language_info": {
   "codemirror_mode": {
    "name": "ipython",
    "version": 3
   },
   "file_extension": ".py",
   "mimetype": "text/x-python",
   "name": "python",
   "nbconvert_exporter": "python",
   "pygments_lexer": "ipython3",
   "version": "3.11.5"
  }
 },
 "nbformat": 4,
 "nbformat_minor": 5
}
